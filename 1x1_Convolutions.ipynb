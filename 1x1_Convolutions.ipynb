{
  "nbformat": 4,
  "nbformat_minor": 0,
  "metadata": {
    "colab": {
      "provenance": []
    },
    "kernelspec": {
      "name": "python3",
      "display_name": "Python 3"
    },
    "language_info": {
      "name": "python"
    }
  },
  "cells": [
    {
      "cell_type": "code",
      "execution_count": 1,
      "metadata": {
        "id": "8XGw0kooNT9Z",
        "colab": {
          "base_uri": "https://localhost:8080/"
        },
        "outputId": "4b59a353-aed4-48f5-e603-ddf0a80f213f"
      },
      "outputs": [
        {
          "output_type": "stream",
          "name": "stdout",
          "text": [
            "Model: \"sequential\"\n",
            "_________________________________________________________________\n",
            " Layer (type)                Output Shape              Param #   \n",
            "=================================================================\n",
            " conv2d (Conv2D)             (None, 256, 256, 512)     14336     \n",
            "                                                                 \n",
            "=================================================================\n",
            "Total params: 14,336\n",
            "Trainable params: 14,336\n",
            "Non-trainable params: 0\n",
            "_________________________________________________________________\n"
          ]
        }
      ],
      "source": [
        "# example of simple cnn model\n",
        "from keras.models import Sequential\n",
        "from keras.layers import Conv2D\n",
        "# create model\n",
        "model = Sequential()\n",
        "model.add(Conv2D(512, (3,3), padding='same', activation='relu', input_shape=(256, 256, 3)))\n",
        "# summarize model\n",
        "model.summary()"
      ]
    },
    {
      "cell_type": "code",
      "source": [
        "# example of a 1x1 filter for projection\n",
        "from keras.models import Sequential\n",
        "from keras.layers import Conv2D\n",
        "# create model\n",
        "model = Sequential()\n",
        "model.add(Conv2D(512, (3,3), padding='same', activation='relu', input_shape=(256, 256, 3)))\n",
        "model.add(Conv2D(512, (1,1), activation='relu'))\n",
        "# summarize model\n",
        "model.summary()"
      ],
      "metadata": {
        "colab": {
          "base_uri": "https://localhost:8080/"
        },
        "id": "XFyUlfn1Bj7l",
        "outputId": "52445753-b15a-48ab-9c9e-db7b0eb49980"
      },
      "execution_count": 2,
      "outputs": [
        {
          "output_type": "stream",
          "name": "stdout",
          "text": [
            "Model: \"sequential_1\"\n",
            "_________________________________________________________________\n",
            " Layer (type)                Output Shape              Param #   \n",
            "=================================================================\n",
            " conv2d_1 (Conv2D)           (None, 256, 256, 512)     14336     \n",
            "                                                                 \n",
            " conv2d_2 (Conv2D)           (None, 256, 256, 512)     262656    \n",
            "                                                                 \n",
            "=================================================================\n",
            "Total params: 276,992\n",
            "Trainable params: 276,992\n",
            "Non-trainable params: 0\n",
            "_________________________________________________________________\n"
          ]
        }
      ]
    },
    {
      "cell_type": "code",
      "source": [
        "# example of a 1x1 filter for dimensionality reduction\n",
        "from keras.models import Sequential\n",
        "from keras.layers import Conv2D\n",
        "# create model\n",
        "model = Sequential()\n",
        "model.add(Conv2D(512, (3,3), padding='same', activation='relu', input_shape=(256, 256, 3)))\n",
        "model.add(Conv2D(64, (1,1), activation='relu'))\n",
        "# summarize model\n",
        "model.summary()"
      ],
      "metadata": {
        "colab": {
          "base_uri": "https://localhost:8080/"
        },
        "id": "pVzWy6R9BvRr",
        "outputId": "5825c270-27db-494d-d886-a9a7e5491c9e"
      },
      "execution_count": 3,
      "outputs": [
        {
          "output_type": "stream",
          "name": "stdout",
          "text": [
            "Model: \"sequential_2\"\n",
            "_________________________________________________________________\n",
            " Layer (type)                Output Shape              Param #   \n",
            "=================================================================\n",
            " conv2d_3 (Conv2D)           (None, 256, 256, 512)     14336     \n",
            "                                                                 \n",
            " conv2d_4 (Conv2D)           (None, 256, 256, 64)      32832     \n",
            "                                                                 \n",
            "=================================================================\n",
            "Total params: 47,168\n",
            "Trainable params: 47,168\n",
            "Non-trainable params: 0\n",
            "_________________________________________________________________\n"
          ]
        }
      ]
    },
    {
      "cell_type": "code",
      "source": [
        "# example of a 1x1 filter to increase dimensionality\n",
        "from keras.models import Sequential\n",
        "from keras.layers import Conv2D\n",
        "# create model\n",
        "model = Sequential()\n",
        "model.add(Conv2D(512, (3,3), padding='same', activation='relu', input_shape=(256, 256, 3)))\n",
        "model.add(Conv2D(1024, (1,1), activation='relu'))\n",
        "# summarize model\n",
        "model.summary()"
      ],
      "metadata": {
        "colab": {
          "base_uri": "https://localhost:8080/"
        },
        "id": "AILnRnTUB43x",
        "outputId": "a8c30599-c677-412f-d019-ffa018b58152"
      },
      "execution_count": 4,
      "outputs": [
        {
          "output_type": "stream",
          "name": "stdout",
          "text": [
            "Model: \"sequential_3\"\n",
            "_________________________________________________________________\n",
            " Layer (type)                Output Shape              Param #   \n",
            "=================================================================\n",
            " conv2d_5 (Conv2D)           (None, 256, 256, 512)     14336     \n",
            "                                                                 \n",
            " conv2d_6 (Conv2D)           (None, 256, 256, 1024)    525312    \n",
            "                                                                 \n",
            "=================================================================\n",
            "Total params: 539,648\n",
            "Trainable params: 539,648\n",
            "Non-trainable params: 0\n",
            "_________________________________________________________________\n"
          ]
        }
      ]
    },
    {
      "cell_type": "code",
      "source": [],
      "metadata": {
        "id": "8YDP2tnjB-pO"
      },
      "execution_count": null,
      "outputs": []
    }
  ]
}